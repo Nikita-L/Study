{
 "cells": [
  {
   "cell_type": "markdown",
   "metadata": {
    "collapsed": true
   },
   "source": [
    "# Лабораторная работа 3"
   ]
  },
  {
   "cell_type": "markdown",
   "metadata": {},
   "source": [
    "---"
   ]
  },
  {
   "cell_type": "markdown",
   "metadata": {
    "collapsed": true
   },
   "source": [
    "Загрузка необходимых библиотек:"
   ]
  },
  {
   "cell_type": "code",
   "execution_count": 1,
   "metadata": {
    "collapsed": false
   },
   "outputs": [],
   "source": [
    "import requests\n",
    "import zipfile\n",
    "import io\n",
    "import numpy as np\n",
    "import pandas as pd\n",
    "import datetime as dt\n",
    "import matplotlib.dates as mdates"
   ]
  },
  {
   "cell_type": "markdown",
   "metadata": {},
   "source": [
    "Глобальные перменные, функции и настройки:"
   ]
  },
  {
   "cell_type": "code",
   "execution_count": 11,
   "metadata": {
    "collapsed": true
   },
   "outputs": [],
   "source": [
    "raw_data_path = \"data/raw/household_power_consumption.csv2\"\n",
    "clean_data_path = \"data/clean/Бытовое потребление электрической энергии.csv2\"\n",
    "pd.options.display.max_rows = 8 # Отображение максимум 8 строк в Pandas dataframe\n",
    "mkdate_dec = lambda x: mdates.date2num(dt.datetime.strptime(x.decode(\"utf-8\"), \"%d/%m/%Y\")) # Дата в число с декодированием\n",
    "mktime_dec = lambda x: mdates.date2num(dt.datetime.strptime(x.decode(\"utf-8\"), \"%H:%M:%S\")) # Время в число с декодированием\n",
    "mktime = lambda x: mdates.date2num(dt.datetime.strptime(x, \"%H:%M:%S\")) # Время в число\n",
    "pd_mktime = lambda x: mktime(x[\"Время\"])"
   ]
  },
  {
   "cell_type": "markdown",
   "metadata": {},
   "source": [
    "Загрузка и очистка данных:"
   ]
  },
  {
   "cell_type": "code",
   "execution_count": 3,
   "metadata": {
    "collapsed": false
   },
   "outputs": [],
   "source": [
    "request = requests.get(\"https://archive.ics.uci.edu/ml/machine-learning-databases/00235/household_power_consumption.zip\") # Загрузка файла\n",
    "file = zipfile.ZipFile(io.BytesIO(request.content)) # Разархивирование\n",
    "with open(raw_data_path, \"w\") as f_raw: # Открыть файл для записи \"грязных\" данных\n",
    "    with open(clean_data_path, \"w\") as f_clean: # Открыть файл для записи \"чистых\" данных\n",
    "        for line in file.open(\"household_power_consumption.txt\").readlines(): # Считать построчно файл из архива\n",
    "            line_en = line.decode(\"utf-8\") # Декодирование строчки, формат - UTF-8\n",
    "            f_raw.write(line_en) # Запись строчки в файл с \"грязными\" данными\n",
    "            if \"?\" not in line_en: # Проверка на наличие некорректных данных\n",
    "                if line_en[0] == \"D\": # Если это первая строчка, то заменить ее\n",
    "                    f_clean.write(\"Дата;Время;Активная_мощьность;Реактивная_мощность;Напряжение;Средняя_сила_тока;Набор_потребителей_1;Набор_потребителей_2;Набор_потребителей_3\\n\")\n",
    "                else:\n",
    "                    f_clean.write(line_en) # В случае корректных данных, записать строчку в файл с \"чистыми\" данными\n",
    "        file.close() # Закрыть файл архива"
   ]
  },
  {
   "cell_type": "markdown",
   "metadata": {
    "collapsed": true
   },
   "source": [
    "Занесение данных в *Pandas dataframe*:"
   ]
  },
  {
   "cell_type": "code",
   "execution_count": 9,
   "metadata": {
    "collapsed": false
   },
   "outputs": [],
   "source": [
    "pd_data = pd.read_csv(clean_data_path, sep=\";\", header=0, low_memory=False)\n",
    "pd_data[\"Время\"] = pd_data.apply(pd_mktime, axis=1)"
   ]
  },
  {
   "cell_type": "markdown",
   "metadata": {},
   "source": [
    "Занесение данных в *NumPy array*:"
   ]
  },
  {
   "cell_type": "code",
   "execution_count": 12,
   "metadata": {
    "collapsed": false
   },
   "outputs": [],
   "source": [
    "np_data = np.loadtxt(clean_data_path, skiprows=1, \n",
    "                     dtype={\"names\": (\"Дата\",\"Время\",\"Активная_мощьность\",\"Реактивная_мощность\",\"Напряжение\",\"Средняя_сила_тока\",\"Набор_потребителей_1\",\"Набор_потребителей_2\",\"Набор_потребителей_3\"), \"formats\": (\"f8\", \"f8\", \"f8\", \"f8\", \"f8\", \"f8\", \"f8\", \"f8\", \"f8\")}, \n",
    "                     delimiter=\";\", \n",
    "                     converters={0:mkdate_dec, 1:mktime_dec}, # 0:mkdate_dec, \n",
    "                     ndmin=0)"
   ]
  },
  {
   "cell_type": "markdown",
   "metadata": {},
   "source": [
    "**1**) Подсчет времени выполнения выбора домохазяйств с активной потребительной мощьностью выше 5 кВт:"
   ]
  },
  {
   "cell_type": "code",
   "execution_count": 13,
   "metadata": {
    "collapsed": false
   },
   "outputs": [],
   "source": [
    "pd_task1 = %timeit -c -q -o pd_data.loc[(pd_data[\"Активная_мощьность\"] > 5)] # Pandas dataframe\n",
    "pd_task1_time = pd_task1.best\n",
    "np_task1 = %timeit -c -q -o np_data[np_data[\"Активная_мощьность\"] > 5] # NumPy array\n",
    "np_task1_time = np_task1.best"
   ]
  },
  {
   "cell_type": "markdown",
   "metadata": {},
   "source": [
    "**2**) Подсчет времени выполнения выбора домохазяйств, у которых вольтаж больше 235 В:"
   ]
  },
  {
   "cell_type": "code",
   "execution_count": 14,
   "metadata": {
    "collapsed": false
   },
   "outputs": [],
   "source": [
    "pd_task2 = %timeit -c -q -o pd_data.loc[(pd_data[\"Напряжение\"] > 235)] # Pandas dataframe\n",
    "pd_task2_time = pd_task2.best\n",
    "np_task2 = %timeit -c -q -o np_data[np_data[\"Напряжение\"] > 235] # NumPy array\n",
    "np_task2_time = np_task2.best"
   ]
  },
  {
   "cell_type": "markdown",
   "metadata": {},
   "source": [
    "**3**) Подсчет времени фильтрации всех домохозяйства у которых сила тока 19-20 А, а стиральная машина и холодильник потребляет больше, чем бойлер и кондиционер:"
   ]
  },
  {
   "cell_type": "code",
   "execution_count": 15,
   "metadata": {
    "collapsed": true
   },
   "outputs": [],
   "source": [
    "pd_task3 = %timeit -c -q -o pd_data.loc[(pd_data[\"Средняя_сила_тока\"] >= 19) & (pd_data[\"Средняя_сила_тока\"] <= 20) & (pd_data[\"Набор_потребителей_2\"] > pd_data[\"Набор_потребителей_3\"])] # Pandas dataframe\n",
    "pd_task3_time = pd_task3.best\n",
    "np_task3 = %timeit -c -q -o np_data[(np_data[\"Средняя_сила_тока\"] >= 19)& (np_data[\"Средняя_сила_тока\"] <= 20) & (np_data[\"Набор_потребителей_2\"] > np_data[\"Набор_потребителей_3\"])] # NumPy array\n",
    "np_task3_time = np_task3.best"
   ]
  },
  {
   "cell_type": "markdown",
   "metadata": {
    "collapsed": false
   },
   "source": [
    "**4**) Подсчет времени выбора *500 000* домохазяйств случайным образом без повторения, для них вычислить средние значения 3 групп потребителей электрической энергии:"
   ]
  },
  {
   "cell_type": "code",
   "execution_count": 16,
   "metadata": {
    "collapsed": false
   },
   "outputs": [],
   "source": [
    "pd_task4 = %timeit -c -q -o temp = pd_data.sample(n=500000); temp[\"Набор_потребителей_1\"].mean(); temp[\"Набор_потребителей_2\"].mean(); temp[\"Набор_потребителей_3\"].mean()\n",
    "pd_task4_time = pd_task4.best\n",
    "np_task4 = %timeit -c -q -o temp = np.random.choice(np_data, size=500000); np.mean(temp[\"Набор_потребителей_1\"]); np.mean(temp[\"Набор_потребителей_2\"]); np.mean(temp[\"Набор_потребителей_3\"])\n",
    "np_task4_time = np_task4.best"
   ]
  },
  {
   "cell_type": "markdown",
   "metadata": {
    "collapsed": true
   },
   "source": [
    "**5**) Засекам: из выбранных случайным образом *500 000* домохазяйств выбрать те, которые после *18-00* потребляют в среднем более 6 кВт в минуту. Среди них выбрать те, у которых 2 группа потребления является больше остальных. Среди них выбрать каждый третий результат из первой половины и каждый четвертый из второй половины:"
   ]
  },
  {
   "cell_type": "code",
   "execution_count": 66,
   "metadata": {
    "collapsed": false
   },
   "outputs": [],
   "source": [
    "time18 = mktime(\"18:00:00\")\n",
    "pd_rand = pd_data.sample(n=500000)\n",
    "np_rand = np.random.choice(np_data, size=500000)\n",
    "\n",
    "pd_task5 = %timeit -c -q -o temp = pd_rand.loc[(pd_rand[\"Время\"] >= time18) & (pd_rand[\"Напряжение\"] > 6) & (pd_rand[\"Набор_потребителей_2\"] > pd_rand[\"Набор_потребителей_1\"]) & (pd_rand[\"Набор_потребителей_2\"] > pd_rand[\"Набор_потребителей_3\"])]; temp.head(round(len(temp.index)/2)).iloc[::3, :]; temp.tail(round(len(temp.index)/2)).iloc[::4, :]\n",
    "pd_task5_time = pd_task5.best\n",
    "np_task5 = %timeit -c -q -o temp = np_rand[(np_rand[\"Время\"] >= time18) & (np_rand[\"Напряжение\"] > 6) & (np_rand[\"Набор_потребителей_2\"] > np_rand[\"Набор_потребителей_1\"]) & (np_rand[\"Набор_потребителей_2\"] > np_rand[\"Набор_потребителей_3\"])]; temp[0:round(temp.shape[0]/2):3]; temp[round(temp.shape[0]/2):temp.shape[0]:4]\n",
    "np_task5_time = np_task5.best"
   ]
  },
  {
   "cell_type": "markdown",
   "metadata": {},
   "source": [
    "Результаты оформим в виде таблицы:"
   ]
  },
  {
   "cell_type": "code",
   "execution_count": 97,
   "metadata": {
    "collapsed": false
   },
   "outputs": [
    {
     "data": {
      "text/html": [
       "<div>\n",
       "<table border=\"1\" class=\"dataframe\">\n",
       "  <thead>\n",
       "    <tr style=\"text-align: right;\">\n",
       "      <th></th>\n",
       "      <th>Pandas dataframe, c</th>\n",
       "      <th>NumPy array, c</th>\n",
       "      <th>Кто быстрее?</th>\n",
       "      <th>Разница, с</th>\n",
       "    </tr>\n",
       "  </thead>\n",
       "  <tbody>\n",
       "    <tr>\n",
       "      <th>Задание 1</th>\n",
       "      <td>0.007164</td>\n",
       "      <td>0.026840</td>\n",
       "      <td>NumPy array</td>\n",
       "      <td>0.019675</td>\n",
       "    </tr>\n",
       "    <tr>\n",
       "      <th>Задание 2</th>\n",
       "      <td>0.139842</td>\n",
       "      <td>0.089750</td>\n",
       "      <td>Pandas dataframe</td>\n",
       "      <td>0.050092</td>\n",
       "    </tr>\n",
       "    <tr>\n",
       "      <th>Задание 3</th>\n",
       "      <td>0.023070</td>\n",
       "      <td>0.067970</td>\n",
       "      <td>NumPy array</td>\n",
       "      <td>0.044900</td>\n",
       "    </tr>\n",
       "    <tr>\n",
       "      <th>Задание 4</th>\n",
       "      <td>0.283425</td>\n",
       "      <td>0.279195</td>\n",
       "      <td>Pandas dataframe</td>\n",
       "      <td>0.004230</td>\n",
       "    </tr>\n",
       "    <tr>\n",
       "      <th>Задание 5</th>\n",
       "      <td>0.016111</td>\n",
       "      <td>0.023830</td>\n",
       "      <td>NumPy array</td>\n",
       "      <td>0.007720</td>\n",
       "    </tr>\n",
       "  </tbody>\n",
       "</table>\n",
       "</div>"
      ],
      "text/plain": [
       "           Pandas dataframe, c  NumPy array, c      Кто быстрее?  Разница, с\n",
       "Задание 1             0.007164        0.026840       NumPy array    0.019675\n",
       "Задание 2             0.139842        0.089750  Pandas dataframe    0.050092\n",
       "Задание 3             0.023070        0.067970       NumPy array    0.044900\n",
       "Задание 4             0.283425        0.279195  Pandas dataframe    0.004230\n",
       "Задание 5             0.016111        0.023830       NumPy array    0.007720"
      ]
     },
     "execution_count": 97,
     "metadata": {},
     "output_type": "execute_result"
    }
   ],
   "source": [
    "results = [\n",
    "    (pd_task1_time, np_task1_time),\n",
    "    (pd_task2_time, np_task2_time),\n",
    "    (pd_task3_time, np_task3_time),\n",
    "    (pd_task4_time, np_task4_time),\n",
    "    (pd_task5_time, np_task5_time)\n",
    "]\n",
    "df = pd.DataFrame(results, columns=[\"Pandas dataframe, c\", \"NumPy array, c\"])\n",
    "df.index = (\"Задание 1\", \"Задание 2\", \"Задание 3\", \"Задание 4\", \"Задание 5\")\n",
    "df[\"Кто быстрее?\"] = df[\"Pandas dataframe, c\"] > df[\"NumPy array, c\"]\n",
    "df[\"Кто быстрее?\"] = df[\"Кто быстрее?\"].map({False:\"NumPy array\", True:\"Pandas dataframe\"})\n",
    "df[\"Разница, с\"] = abs(df[\"Pandas dataframe, c\"] - df[\"NumPy array, c\"])\n",
    "df"
   ]
  },
  {
   "cell_type": "markdown",
   "metadata": {
    "collapsed": true
   },
   "source": [
    "### Вывод"
   ]
  },
  {
   "cell_type": "markdown",
   "metadata": {},
   "source": [
    "Во время выполнения данной лабараторной работы я угулубил знания по работе с *Pandas dataframes* и узнал принципы работы с *NumPy arrays*.\n",
    "Кроме того, исследовал скорость работы обоих этих инструментов. По результатом этой проверки получилось что *NumPy* в большем колличестве заданий оказался быстрее *Pandas*. Безусловно, для обработки *Big Data*, следует использовать *NumPy*, но для обработки небольшой информации *Pandas*, по моему мнению, подходит намного лучше, с точки зрения удобства использования. Моя итоговая оценка: NumPy - 4; Pandas - 5."
   ]
  }
 ],
 "metadata": {
  "kernelspec": {
   "display_name": "Python 3",
   "language": "python",
   "name": "python3"
  },
  "language_info": {
   "codemirror_mode": {
    "name": "ipython",
    "version": 3
   },
   "file_extension": ".py",
   "mimetype": "text/x-python",
   "name": "python",
   "nbconvert_exporter": "python",
   "pygments_lexer": "ipython3",
   "version": "3.4.3"
  }
 },
 "nbformat": 4,
 "nbformat_minor": 0
}
