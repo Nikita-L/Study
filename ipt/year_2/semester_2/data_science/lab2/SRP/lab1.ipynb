{
 "cells": [
  {
   "cell_type": "markdown",
   "metadata": {},
   "source": [
    "# Лабораторная работа 1"
   ]
  },
  {
   "cell_type": "markdown",
   "metadata": {},
   "source": [
    "---"
   ]
  },
  {
   "cell_type": "markdown",
   "metadata": {},
   "source": [
    "Загрузка необходимых библиотек:"
   ]
  },
  {
   "cell_type": "code",
   "execution_count": 1,
   "metadata": {
    "collapsed": false
   },
   "outputs": [],
   "source": [
    "import hdr # Импортируемые библиотеки\n",
    "import additional as adnl # Файл со вспомогательными функциями"
   ]
  },
  {
   "cell_type": "markdown",
   "metadata": {},
   "source": [
    "Загрузка данных в формате *txt*, переопределение в формат *csv*. Имена файлов состоят из индекса, названия области, даты и времени, когда был загружен файл:"
   ]
  },
  {
   "cell_type": "code",
   "execution_count": 2,
   "metadata": {
    "collapsed": false
   },
   "outputs": [
    {
     "name": "stdout",
     "output_type": "stream",
     "text": [
      "Нет доступа к сети интернет\n"
     ]
    }
   ],
   "source": [
    "inet_access = adnl.inetConnection() # Проверка на доступ к сети интернет\n",
    "\n",
    "for i in range(1, 28):\n",
    "    current_name = adnl.regionName(i) # Название области\n",
    "    current_file = hdr.glob.glob('data/raw/?? ' + current_name + ' ????-??-?? ??:??.csv')\n",
    "    if (not current_file): # Если файл уже существует, он не загружается\n",
    "        if (inet_access):\n",
    "            adnl.download(i); # Загрузить файл\n",
    "            hdr.clear_output() # Убрать output выполненых команд\n",
    "        else:\n",
    "            print (\"Нет доступа к сети интернет\")\n",
    "            break\n",
    "if (inet_access): # Кнопка работает только при наличии доступа к интернет\n",
    "    button = hdr.ipw.Button(description=\"Обновить данные\") # Кнопка для обноления данных\n",
    "    button.on_click(adnl.refresh) # Загрузить данные заново\n",
    "    hdr.display(button) # Отобразить кнопку\n",
    "    hdr.clear_output() # Убрать output выполненых команд\n",
    "else:\n",
    "    print (\"Нет доступа к сети интернет\")"
   ]
  },
  {
   "cell_type": "markdown",
   "metadata": {},
   "source": [
    "Обработка сырых данных:"
   ]
  },
  {
   "cell_type": "code",
   "execution_count": 3,
   "metadata": {
    "collapsed": false
   },
   "outputs": [],
   "source": [
    "raw_data_ok = adnl.checkData(\"raw\") # Проверка наличия данных\n",
    "clean_data_ok = adnl.checkData(\"clean\")\n",
    "\n",
    "if (raw_data_ok):\n",
    "    if (clean_data_ok): pass\n",
    "    else:\n",
    "        hdr.clear_output() # Убрать output выполненых команд\n",
    "        for i in range(1, 28):\n",
    "            current_file = adnl.findFile('?? ' + adnl.regionName(i) + ' ????-??-?? ??:??.csv', 'data/raw')\n",
    "            if (hdr.os.path.isfile('data/clean' + current_file[8:])): # Если уже существует \"чистый\" файл, операция \"отчистки\" не повториться\n",
    "                break\n",
    "            adnl.cleanRow(current_file)\n",
    "    button = hdr.ipw.Button(description=\"Повторить отчистку\") # Кнопка для повторной \"отчистки\" данных\n",
    "    button.on_click(adnl.recleanData) # Повторить \"отчистку\" \"сырых\" данных\n",
    "    hdr.display(button) # Отобразить кнопку\n",
    "else:\n",
    "    print(\"Нет полных данных\")"
   ]
  },
  {
   "cell_type": "markdown",
   "metadata": {},
   "source": [
    "Занесение данных в *DataFrame* и отобразить график на этой странице:"
   ]
  },
  {
   "cell_type": "code",
   "execution_count": 4,
   "metadata": {
    "collapsed": false,
    "scrolled": false
   },
   "outputs": [
    {
     "name": "stdout",
     "output_type": "stream",
     "text": [
      "Житомир\n"
     ]
    },
    {
     "data": {
      "text/html": [
       "<div>\n",
       "<table border=\"1\" class=\"dataframe\">\n",
       "  <thead>\n",
       "    <tr style=\"text-align: right;\">\n",
       "      <th></th>\n",
       "      <th>Год</th>\n",
       "      <th>Неделя</th>\n",
       "      <th>SMN</th>\n",
       "      <th>SMT</th>\n",
       "      <th>VCI</th>\n",
       "      <th>TCI</th>\n",
       "      <th>VHI</th>\n",
       "      <th>Процент площади где VHI &lt; 15%</th>\n",
       "      <th>Процент площади где VHI &lt; 35%</th>\n",
       "    </tr>\n",
       "  </thead>\n",
       "  <tbody>\n",
       "    <tr>\n",
       "      <th>0</th>\n",
       "      <td>1981</td>\n",
       "      <td>35</td>\n",
       "      <td>0.2241</td>\n",
       "      <td>284.353</td>\n",
       "      <td>15.17</td>\n",
       "      <td>83.32</td>\n",
       "      <td>49.25</td>\n",
       "      <td>0.22</td>\n",
       "      <td>8.23</td>\n",
       "    </tr>\n",
       "    <tr>\n",
       "      <th>1</th>\n",
       "      <td>1981</td>\n",
       "      <td>36</td>\n",
       "      <td>0.2292</td>\n",
       "      <td>285.630</td>\n",
       "      <td>21.41</td>\n",
       "      <td>68.39</td>\n",
       "      <td>44.90</td>\n",
       "      <td>1.20</td>\n",
       "      <td>19.90</td>\n",
       "    </tr>\n",
       "    <tr>\n",
       "      <th>...</th>\n",
       "      <td>...</td>\n",
       "      <td>...</td>\n",
       "      <td>...</td>\n",
       "      <td>...</td>\n",
       "      <td>...</td>\n",
       "      <td>...</td>\n",
       "      <td>...</td>\n",
       "      <td>...</td>\n",
       "      <td>...</td>\n",
       "    </tr>\n",
       "    <tr>\n",
       "      <th>1763</th>\n",
       "      <td>2016</td>\n",
       "      <td>10</td>\n",
       "      <td>0.1595</td>\n",
       "      <td>276.544</td>\n",
       "      <td>70.78</td>\n",
       "      <td>21.82</td>\n",
       "      <td>46.30</td>\n",
       "      <td>0.00</td>\n",
       "      <td>12.84</td>\n",
       "    </tr>\n",
       "    <tr>\n",
       "      <th>1764</th>\n",
       "      <td>2016</td>\n",
       "      <td>11</td>\n",
       "      <td>0.1694</td>\n",
       "      <td>277.259</td>\n",
       "      <td>68.54</td>\n",
       "      <td>25.85</td>\n",
       "      <td>47.20</td>\n",
       "      <td>0.00</td>\n",
       "      <td>11.06</td>\n",
       "    </tr>\n",
       "  </tbody>\n",
       "</table>\n",
       "<p>1765 rows × 9 columns</p>\n",
       "</div>"
      ],
      "text/plain": [
       "       Год  Неделя     SMN      SMT    VCI    TCI    VHI  \\\n",
       "0     1981      35  0.2241  284.353  15.17  83.32  49.25   \n",
       "1     1981      36  0.2292  285.630  21.41  68.39  44.90   \n",
       "...    ...     ...     ...      ...    ...    ...    ...   \n",
       "1763  2016      10  0.1595  276.544  70.78  21.82  46.30   \n",
       "1764  2016      11  0.1694  277.259  68.54  25.85  47.20   \n",
       "\n",
       "      Процент площади где VHI < 15%  Процент площади где VHI < 35%  \n",
       "0                              0.22                           8.23  \n",
       "1                              1.20                          19.90  \n",
       "...                             ...                            ...  \n",
       "1763                           0.00                          12.84  \n",
       "1764                           0.00                          11.06  \n",
       "\n",
       "[1765 rows x 9 columns]"
      ]
     },
     "metadata": {},
     "output_type": "display_data"
    },
    {
     "data": {
      "image/png": "[encoded data removed]",
      "text/plain": [
       "<matplotlib.figure.Figure at 0x7fd35c9e6860>"
      ]
     },
     "metadata": {},
     "output_type": "display_data"
    }
   ],
   "source": [
    "data_ok = adnl.checkData(\"clean\") # Проверка наличия данных\n",
    "\n",
    "def menuHandler(data = 0): # Обратботчик меню\n",
    "    hdr.clear_output() # Убрать output выполненых команд\n",
    "    df = adnl.makeDF(menu.selected_label)\n",
    "    hdr.display(df)\n",
    "    adnl.makeFig(df) # Создать график\n",
    "\n",
    "if (data_ok):\n",
    "    hdr.clear_output() # Убрать output выполненых команд\n",
    "    menu = hdr.ipw.Select(options=adnl.region_names, description=\"Выберите область: \")\n",
    "    menu.observe(menuHandler, 'value')\n",
    "    hdr.display(menu) # Отобразить меню\n",
    "    hdr.pd.options.display.max_rows = 5 # Максимальное количество отображаемых строк таблицы\n",
    "    %matplotlib inline\n",
    "    df = adnl.makeDF('Винница') # Создать датафрейм\n",
    "    hdr.display(df)\n",
    "    adnl.makeFig(df) # Создать график\n",
    "else:\n",
    "    print(\"Нет полных данных\")"
   ]
  },
  {
   "cell_type": "markdown",
   "metadata": {
    "collapsed": false
   },
   "source": [
    "Изменение индексов областей:"
   ]
  },
  {
   "cell_type": "code",
   "execution_count": 5,
   "metadata": {
    "collapsed": false
   },
   "outputs": [],
   "source": [
    "adnl.changeIndex()\n",
    "button = hdr.ipw.Button(description=\"Изменить индекс областей\")\n",
    "button.on_click(adnl.changeIndex)\n",
    "hdr.display(button) # Отобразить кнопку"
   ]
  },
  {
   "cell_type": "markdown",
   "metadata": {},
   "source": [
    "Минимальные и максимальные значения VHI для определенной области:"
   ]
  },
  {
   "cell_type": "code",
   "execution_count": 6,
   "metadata": {
    "collapsed": false
   },
   "outputs": [
    {
     "name": "stdout",
     "output_type": "stream",
     "text": [
      "Крым\n",
      "Максимальное значение VHI:\n"
     ]
    },
    {
     "data": {
      "text/html": [
       "<div>\n",
       "<table border=\"1\" class=\"dataframe\">\n",
       "  <thead>\n",
       "    <tr style=\"text-align: right;\">\n",
       "      <th></th>\n",
       "      <th>Год</th>\n",
       "      <th>Неделя</th>\n",
       "      <th>SMN</th>\n",
       "      <th>SMT</th>\n",
       "      <th>VCI</th>\n",
       "      <th>TCI</th>\n",
       "      <th>VHI</th>\n",
       "      <th>Процент площади где VHI &lt; 15%</th>\n",
       "      <th>Процент площади где VHI &lt; 35%</th>\n",
       "    </tr>\n",
       "  </thead>\n",
       "  <tbody>\n",
       "    <tr>\n",
       "      <th>799</th>\n",
       "      <td>1997</td>\n",
       "      <td>34</td>\n",
       "      <td>0.3127</td>\n",
       "      <td>293.31</td>\n",
       "      <td>82.23</td>\n",
       "      <td>90.82</td>\n",
       "      <td>86.53</td>\n",
       "      <td>0</td>\n",
       "      <td>0.57</td>\n",
       "    </tr>\n",
       "  </tbody>\n",
       "</table>\n",
       "</div>"
      ],
      "text/plain": [
       "      Год  Неделя     SMN     SMT    VCI    TCI    VHI  \\\n",
       "799  1997      34  0.3127  293.31  82.23  90.82  86.53   \n",
       "\n",
       "     Процент площади где VHI < 15%  Процент площади где VHI < 35%  \n",
       "799                              0                           0.57  "
      ]
     },
     "metadata": {},
     "output_type": "display_data"
    },
    {
     "name": "stdout",
     "output_type": "stream",
     "text": [
      "Минимальное значение VHI:\n"
     ]
    },
    {
     "data": {
      "text/html": [
       "<div>\n",
       "<table border=\"1\" class=\"dataframe\">\n",
       "  <thead>\n",
       "    <tr style=\"text-align: right;\">\n",
       "      <th></th>\n",
       "      <th>Год</th>\n",
       "      <th>Неделя</th>\n",
       "      <th>SMN</th>\n",
       "      <th>SMT</th>\n",
       "      <th>VCI</th>\n",
       "      <th>TCI</th>\n",
       "      <th>VHI</th>\n",
       "      <th>Процент площади где VHI &lt; 15%</th>\n",
       "      <th>Процент площади где VHI &lt; 35%</th>\n",
       "    </tr>\n",
       "  </thead>\n",
       "  <tbody>\n",
       "    <tr>\n",
       "      <th>1585</th>\n",
       "      <td>2012</td>\n",
       "      <td>40</td>\n",
       "      <td>0.1763</td>\n",
       "      <td>299.423</td>\n",
       "      <td>26.1</td>\n",
       "      <td>0.98</td>\n",
       "      <td>13.54</td>\n",
       "      <td>70.93</td>\n",
       "      <td>86.48</td>\n",
       "    </tr>\n",
       "  </tbody>\n",
       "</table>\n",
       "</div>"
      ],
      "text/plain": [
       "       Год  Неделя     SMN      SMT   VCI   TCI    VHI  \\\n",
       "1585  2012      40  0.1763  299.423  26.1  0.98  13.54   \n",
       "\n",
       "      Процент площади где VHI < 15%  Процент площади где VHI < 35%  \n",
       "1585                          70.93                          86.48  "
      ]
     },
     "metadata": {},
     "output_type": "display_data"
    }
   ],
   "source": [
    "data_ok = adnl.checkData(\"clean\") # Проверка наличия данных\n",
    "\n",
    "def menuHandler2(data = 0): # Обработчик меню максимальных/минимальных значений областей\n",
    "    hdr.clear_output() # Убрать output выполненых команд\n",
    "    df = adnl.makeDF(menu2.selected_label)\n",
    "    adnl.makeExtVHI(df) # Отобразить максимальное/минимальное значение\n",
    "\n",
    "if (data_ok):\n",
    "    hdr.clear_output() # Убрать output выполненых команд\n",
    "    df = adnl.makeDF('Винница') # Создать датафрейм\n",
    "    adnl.makeExtVHI(df) # Отобразить максимальное/минимальное значение\n",
    "    \n",
    "    menu2 = hdr.ipw.Select(options=adnl.region_names, description=\"Выберите область: \") # Меню\n",
    "    hdr.display(menu2)\n",
    "    menu2.observe(menuHandler2, 'value')\n",
    "else:\n",
    "    print(\"Нет полных данных\")"
   ]
  },
  {
   "cell_type": "markdown",
   "metadata": {
    "collapsed": true
   },
   "source": [
    "Процент площади определенной области где VHI < 15% либо VHI < 35%:"
   ]
  },
  {
   "cell_type": "code",
   "execution_count": 7,
   "metadata": {
    "collapsed": false
   },
   "outputs": [
    {
     "name": "stdout",
     "output_type": "stream",
     "text": [
      "Днепропетровск\n"
     ]
    },
    {
     "data": {
      "text/html": [
       "<div>\n",
       "<table border=\"1\" class=\"dataframe\">\n",
       "  <thead>\n",
       "    <tr style=\"text-align: right;\">\n",
       "      <th></th>\n",
       "      <th>Год</th>\n",
       "      <th>Неделя</th>\n",
       "      <th>SMN</th>\n",
       "      <th>SMT</th>\n",
       "      <th>VCI</th>\n",
       "      <th>TCI</th>\n",
       "      <th>VHI</th>\n",
       "      <th>Процент площади где VHI &lt; 15%</th>\n",
       "      <th>Процент площади где VHI &lt; 35%</th>\n",
       "    </tr>\n",
       "  </thead>\n",
       "  <tbody>\n",
       "    <tr>\n",
       "      <th>250</th>\n",
       "      <td>1986</td>\n",
       "      <td>34</td>\n",
       "      <td>0.2123</td>\n",
       "      <td>302.171</td>\n",
       "      <td>26.01</td>\n",
       "      <td>8.98</td>\n",
       "      <td>17.49</td>\n",
       "      <td>45.71</td>\n",
       "      <td>92.19</td>\n",
       "    </tr>\n",
       "    <tr>\n",
       "      <th>251</th>\n",
       "      <td>1986</td>\n",
       "      <td>35</td>\n",
       "      <td>0.1918</td>\n",
       "      <td>301.362</td>\n",
       "      <td>22.30</td>\n",
       "      <td>6.19</td>\n",
       "      <td>14.24</td>\n",
       "      <td>57.37</td>\n",
       "      <td>96.27</td>\n",
       "    </tr>\n",
       "    <tr>\n",
       "      <th>252</th>\n",
       "      <td>1986</td>\n",
       "      <td>36</td>\n",
       "      <td>0.1662</td>\n",
       "      <td>299.151</td>\n",
       "      <td>17.70</td>\n",
       "      <td>8.90</td>\n",
       "      <td>13.30</td>\n",
       "      <td>61.37</td>\n",
       "      <td>96.31</td>\n",
       "    </tr>\n",
       "    <tr>\n",
       "      <th>253</th>\n",
       "      <td>1986</td>\n",
       "      <td>37</td>\n",
       "      <td>0.1436</td>\n",
       "      <td>296.352</td>\n",
       "      <td>14.58</td>\n",
       "      <td>15.47</td>\n",
       "      <td>15.02</td>\n",
       "      <td>55.34</td>\n",
       "      <td>94.09</td>\n",
       "    </tr>\n",
       "    <tr>\n",
       "      <th>254</th>\n",
       "      <td>1986</td>\n",
       "      <td>38</td>\n",
       "      <td>0.1236</td>\n",
       "      <td>292.970</td>\n",
       "      <td>12.49</td>\n",
       "      <td>28.52</td>\n",
       "      <td>20.50</td>\n",
       "      <td>36.07</td>\n",
       "      <td>87.76</td>\n",
       "    </tr>\n",
       "    <tr>\n",
       "      <th>404</th>\n",
       "      <td>1989</td>\n",
       "      <td>33</td>\n",
       "      <td>0.2159</td>\n",
       "      <td>302.063</td>\n",
       "      <td>24.17</td>\n",
       "      <td>15.05</td>\n",
       "      <td>19.60</td>\n",
       "      <td>40.89</td>\n",
       "      <td>87.41</td>\n",
       "    </tr>\n",
       "    <tr>\n",
       "      <th>405</th>\n",
       "      <td>1989</td>\n",
       "      <td>34</td>\n",
       "      <td>0.1995</td>\n",
       "      <td>300.945</td>\n",
       "      <td>20.34</td>\n",
       "      <td>19.46</td>\n",
       "      <td>19.90</td>\n",
       "      <td>40.65</td>\n",
       "      <td>86.44</td>\n",
       "    </tr>\n",
       "    <tr>\n",
       "      <th>713</th>\n",
       "      <td>1995</td>\n",
       "      <td>52</td>\n",
       "      <td>0.0040</td>\n",
       "      <td>257.585</td>\n",
       "      <td>0.42</td>\n",
       "      <td>39.96</td>\n",
       "      <td>20.19</td>\n",
       "      <td>37.39</td>\n",
       "      <td>89.27</td>\n",
       "    </tr>\n",
       "    <tr>\n",
       "      <th>714</th>\n",
       "      <td>1996</td>\n",
       "      <td>1</td>\n",
       "      <td>0.0012</td>\n",
       "      <td>256.050</td>\n",
       "      <td>0.24</td>\n",
       "      <td>38.77</td>\n",
       "      <td>19.50</td>\n",
       "      <td>41.31</td>\n",
       "      <td>88.26</td>\n",
       "    </tr>\n",
       "    <tr>\n",
       "      <th>964</th>\n",
       "      <td>2000</td>\n",
       "      <td>49</td>\n",
       "      <td>0.0189</td>\n",
       "      <td>263.589</td>\n",
       "      <td>13.17</td>\n",
       "      <td>28.93</td>\n",
       "      <td>21.05</td>\n",
       "      <td>36.49</td>\n",
       "      <td>85.46</td>\n",
       "    </tr>\n",
       "    <tr>\n",
       "      <th>1564</th>\n",
       "      <td>2012</td>\n",
       "      <td>25</td>\n",
       "      <td>0.3531</td>\n",
       "      <td>305.982</td>\n",
       "      <td>39.18</td>\n",
       "      <td>5.42</td>\n",
       "      <td>22.30</td>\n",
       "      <td>35.33</td>\n",
       "      <td>79.87</td>\n",
       "    </tr>\n",
       "    <tr>\n",
       "      <th>1565</th>\n",
       "      <td>2012</td>\n",
       "      <td>26</td>\n",
       "      <td>0.3515</td>\n",
       "      <td>306.388</td>\n",
       "      <td>39.81</td>\n",
       "      <td>5.72</td>\n",
       "      <td>22.76</td>\n",
       "      <td>35.87</td>\n",
       "      <td>76.99</td>\n",
       "    </tr>\n",
       "    <tr>\n",
       "      <th>1566</th>\n",
       "      <td>2012</td>\n",
       "      <td>27</td>\n",
       "      <td>0.3396</td>\n",
       "      <td>306.604</td>\n",
       "      <td>35.50</td>\n",
       "      <td>5.92</td>\n",
       "      <td>20.71</td>\n",
       "      <td>40.38</td>\n",
       "      <td>81.23</td>\n",
       "    </tr>\n",
       "    <tr>\n",
       "      <th>1567</th>\n",
       "      <td>2012</td>\n",
       "      <td>28</td>\n",
       "      <td>0.3296</td>\n",
       "      <td>306.854</td>\n",
       "      <td>33.89</td>\n",
       "      <td>5.79</td>\n",
       "      <td>19.84</td>\n",
       "      <td>42.13</td>\n",
       "      <td>83.57</td>\n",
       "    </tr>\n",
       "    <tr>\n",
       "      <th>1568</th>\n",
       "      <td>2012</td>\n",
       "      <td>29</td>\n",
       "      <td>0.3172</td>\n",
       "      <td>306.687</td>\n",
       "      <td>31.97</td>\n",
       "      <td>6.21</td>\n",
       "      <td>19.09</td>\n",
       "      <td>43.11</td>\n",
       "      <td>85.24</td>\n",
       "    </tr>\n",
       "    <tr>\n",
       "      <th>1569</th>\n",
       "      <td>2012</td>\n",
       "      <td>30</td>\n",
       "      <td>0.3073</td>\n",
       "      <td>306.647</td>\n",
       "      <td>32.56</td>\n",
       "      <td>5.90</td>\n",
       "      <td>19.23</td>\n",
       "      <td>41.20</td>\n",
       "      <td>86.02</td>\n",
       "    </tr>\n",
       "    <tr>\n",
       "      <th>1570</th>\n",
       "      <td>2012</td>\n",
       "      <td>31</td>\n",
       "      <td>0.2950</td>\n",
       "      <td>306.097</td>\n",
       "      <td>31.93</td>\n",
       "      <td>7.59</td>\n",
       "      <td>19.76</td>\n",
       "      <td>39.80</td>\n",
       "      <td>85.83</td>\n",
       "    </tr>\n",
       "  </tbody>\n",
       "</table>\n",
       "</div>"
      ],
      "text/plain": [
       "       Год  Неделя     SMN      SMT    VCI    TCI    VHI  \\\n",
       "250   1986      34  0.2123  302.171  26.01   8.98  17.49   \n",
       "251   1986      35  0.1918  301.362  22.30   6.19  14.24   \n",
       "252   1986      36  0.1662  299.151  17.70   8.90  13.30   \n",
       "253   1986      37  0.1436  296.352  14.58  15.47  15.02   \n",
       "254   1986      38  0.1236  292.970  12.49  28.52  20.50   \n",
       "404   1989      33  0.2159  302.063  24.17  15.05  19.60   \n",
       "405   1989      34  0.1995  300.945  20.34  19.46  19.90   \n",
       "713   1995      52  0.0040  257.585   0.42  39.96  20.19   \n",
       "714   1996       1  0.0012  256.050   0.24  38.77  19.50   \n",
       "964   2000      49  0.0189  263.589  13.17  28.93  21.05   \n",
       "1564  2012      25  0.3531  305.982  39.18   5.42  22.30   \n",
       "1565  2012      26  0.3515  306.388  39.81   5.72  22.76   \n",
       "1566  2012      27  0.3396  306.604  35.50   5.92  20.71   \n",
       "1567  2012      28  0.3296  306.854  33.89   5.79  19.84   \n",
       "1568  2012      29  0.3172  306.687  31.97   6.21  19.09   \n",
       "1569  2012      30  0.3073  306.647  32.56   5.90  19.23   \n",
       "1570  2012      31  0.2950  306.097  31.93   7.59  19.76   \n",
       "\n",
       "      Процент площади где VHI < 15%  Процент площади где VHI < 35%  \n",
       "250                           45.71                          92.19  \n",
       "251                           57.37                          96.27  \n",
       "252                           61.37                          96.31  \n",
       "253                           55.34                          94.09  \n",
       "254                           36.07                          87.76  \n",
       "404                           40.89                          87.41  \n",
       "405                           40.65                          86.44  \n",
       "713                           37.39                          89.27  \n",
       "714                           41.31                          88.26  \n",
       "964                           36.49                          85.46  \n",
       "1564                          35.33                          79.87  \n",
       "1565                          35.87                          76.99  \n",
       "1566                          40.38                          81.23  \n",
       "1567                          42.13                          83.57  \n",
       "1568                          43.11                          85.24  \n",
       "1569                          41.20                          86.02  \n",
       "1570                          39.80                          85.83  "
      ]
     },
     "metadata": {},
     "output_type": "display_data"
    }
   ],
   "source": [
    "data_ok = adnl.checkData(\"clean\") # Проверка наличия данных\n",
    "\n",
    "def buttonHandler(button_value = 0): # Обработчик кнопки\n",
    "    region = menu3.selected_label # Область выбрана\n",
    "    percent = percent_text.value # Процент указан\n",
    "    colomn = colomn_button.value\n",
    "    hdr.clear_output() # Убрать output выполненых команд\n",
    "    if (percent <= 100. and percent >= 0):\n",
    "        adnl.areaShow(region, percent, colomn) # Показать датафрейм в отфильтрованном виде, создать файл с отфильтрованными данными\n",
    "    else:\n",
    "        print(\"Данные неправильные\")\n",
    "\n",
    "if (data_ok):\n",
    "    hdr.clear_output() # Убрать output выполненых команд\n",
    "    hdr.pd.options.display.max_rows = 20\n",
    "    menu3 = hdr.ipw.Select(options=adnl.region_names, description=\"Выберите область: \") # Меню\n",
    "    hdr.display(menu3)\n",
    "    percent_text = hdr.ipw.FloatText(description=\"Процент: \") # Ввод процента\n",
    "    percent_text.margin = \"20\"\n",
    "    hdr.display(percent_text)\n",
    "    colomn_button = hdr.ipw.ToggleButtons(description=\"Фильтровать: \") # Кнопка выбора фильтрации\n",
    "    colomn_button.options = [\"Процент площади где VHI < 15%\", \"Процент площади где VHI < 35%\"]\n",
    "    colomn_button.margin = \"20\"\n",
    "    hdr.display(colomn_button)\n",
    "    button = hdr.ipw.Button(description=\"Показать\") # Кнопка для повторной \"отчистки\" данных\n",
    "    button.on_click(buttonHandler) # Повторить \"отчистку\" \"сырых\" данных\n",
    "    hdr.display(button) # Отобразить кнопку\n",
    "else:\n",
    "    print(\"Нет полных данных\")"
   ]
  },
  {
   "cell_type": "markdown",
   "metadata": {},
   "source": [
    "### Вывод"
   ]
  },
  {
   "cell_type": "markdown",
   "metadata": {},
   "source": [
    "Во время выполнения этой лабораторной работы, я познакомился с принципами получения и работы с данными, получил практические навыки отчистки и анализа данных. Также, узанл о существовании VHI индекса и ознакомился с его значением для Украины."
   ]
  }
 ],
 "metadata": {
  "kernelspec": {
   "display_name": "Python 3",
   "language": "python",
   "name": "python3"
  },
  "language_info": {
   "codemirror_mode": {
    "name": "ipython",
    "version": 3
   },
   "file_extension": ".py",
   "mimetype": "text/x-python",
   "name": "python",
   "nbconvert_exporter": "python",
   "pygments_lexer": "ipython3",
   "version": "3.4.3"
  }
 },
 "nbformat": 4,
 "nbformat_minor": 0
}
