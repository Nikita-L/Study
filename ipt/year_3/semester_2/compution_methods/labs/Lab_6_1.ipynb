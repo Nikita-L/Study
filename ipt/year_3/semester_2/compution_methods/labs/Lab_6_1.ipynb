{
 "cells": [
  {
   "cell_type": "markdown",
   "metadata": {},
   "source": [
    "# Lab 6. Cauchy Problem Solving with Runge-Kutta and Adams methods.\n"
   ]
  },
  {
   "cell_type": "code",
   "execution_count": 31,
   "metadata": {
    "collapsed": true
   },
   "outputs": [],
   "source": [
    "from math import *\n",
    "import numpy as np\n",
    "import scipy as scp\n",
    "import scipy.integrate as intgr\n",
    "import matplotlib.pyplot as plt\n",
    "\n",
    "%matplotlib inline"
   ]
  },
  {
   "cell_type": "code",
   "execution_count": 32,
   "metadata": {
    "collapsed": true
   },
   "outputs": [],
   "source": [
    "h = 0.1"
   ]
  },
  {
   "cell_type": "markdown",
   "metadata": {},
   "source": [
    "Методами Рунге-Кутта та Адамса-Башфорта четвертого порядку розв'язати задачу Коші. На початку інтервалу у необхідній кількості точок значення для методу Адамса визначити методом Рунге-Кутта четвертого порядку."
   ]
  },
  {
   "cell_type": "code",
   "execution_count": 33,
   "metadata": {
    "collapsed": true
   },
   "outputs": [],
   "source": [
    "num = 15"
   ]
  },
  {
   "cell_type": "code",
   "execution_count": 34,
   "metadata": {
    "collapsed": false
   },
   "outputs": [],
   "source": [
    "def f(x, y):\n",
    "    return (1 - x ** 2) * y + (2*x) - (x**2) + (x**4)"
   ]
  },
  {
   "cell_type": "code",
   "execution_count": 35,
   "metadata": {
    "collapsed": false
   },
   "outputs": [],
   "source": [
    "def Runge_Kutt(h, num):\n",
    "    #x = h*np.linspace(0, 5, num)\n",
    "    x = [float(i)*h for i in range(31)]\n",
    "    y = [0]\n",
    "    for i in x:\n",
    "        k1 = h * f(i, y[-1])\n",
    "        k2 = h * f(i + h / 2, y[-1] + k1 / 2)\n",
    "        k3 = h * f(i + h / 2, y[-1] + k2 / 2)\n",
    "        k4 = h * f(i + h, y[-1] + k3)\n",
    "        y.append(y[-1] + (k1 + 2 * k2 + 2 * k3 + k4) / 6)\n",
    "    return zip(x, y)"
   ]
  },
  {
   "cell_type": "code",
   "execution_count": 36,
   "metadata": {
    "collapsed": false
   },
   "outputs": [
    {
     "data": {
      "text/plain": [
       "[(0.0, 0),\n",
       " (0.1, 0.009999763608085938),\n",
       " (0.2, 0.039999476978140866),\n",
       " (0.30000000000000004, 0.08999915157291752),\n",
       " (0.4, 0.1599988019760551),\n",
       " (0.5, 0.2499984454142123),\n",
       " (0.6000000000000001, 0.35999810127286574),\n",
       " (0.7000000000000001, 0.48999779070409133),\n",
       " (0.8, 0.6399975364627006),\n",
       " (0.9, 0.8099973631332054),\n",
       " (1.0, 0.99999729791053),\n",
       " (1.1, 1.2099973720594726),\n",
       " (1.2000000000000002, 1.4399976230951068),\n",
       " (1.3, 1.6899980976039948),\n",
       " (1.4000000000000001, 1.9599988544852625),\n",
       " (1.5, 2.249999968266975),\n",
       " (1.6, 2.5600015320894753),\n",
       " (1.7000000000000002, 2.8900036599790955),\n",
       " (1.8, 3.240006488175468),\n",
       " (1.9000000000000001, 3.6100101755016696),\n",
       " (2.0, 4.000014903022604),\n",
       " (2.1, 4.410020873448856),\n",
       " (2.2, 4.8400283108442705),\n",
       " (2.3000000000000003, 5.290037461154802),\n",
       " (2.4000000000000004, 5.7600485939130746),\n",
       " (2.5, 6.250062005251285),\n",
       " (2.6, 6.760078022157327),\n",
       " (2.7, 7.290097007804485),\n",
       " (2.8000000000000003, 7.8401193678054275),\n",
       " (2.9000000000000004, 8.410145557375557),\n",
       " (3.0, 9.00017608960101)]"
      ]
     },
     "execution_count": 36,
     "metadata": {},
     "output_type": "execute_result"
    }
   ],
   "source": [
    "Runge_Kutt(h, num)"
   ]
  },
  {
   "cell_type": "code",
   "execution_count": 37,
   "metadata": {
    "collapsed": true
   },
   "outputs": [],
   "source": [
    "y_R = []\n",
    "for i in Runge_Kutt(h, num):\n",
    "    y_R.append(i[1])"
   ]
  },
  {
   "cell_type": "code",
   "execution_count": 38,
   "metadata": {
    "collapsed": false
   },
   "outputs": [],
   "source": [
    "def Adams_Bashforth(h, num):\n",
    "    runge_kutt = Runge_Kutt(h, num)[:4]\n",
    "    #x = np.linspace(0, 5, num)\n",
    "    x = [float(i)*h for i in range(31)]\n",
    "    y = [i[1] for i in runge_kutt]\n",
    "    for i in range(3, len(x)):\n",
    "        y.append(y[i] + (55 * f(x[i], y[i]) -\n",
    "                         59 * f(x[i - 1], y[i - 1]) +\n",
    "                         37 * f(x[i - 2], y[i - 2]) -\n",
    "                         9 * f(x[i - 3], y[i - 3])) * h / 24)\n",
    "    return zip(x, y)"
   ]
  },
  {
   "cell_type": "code",
   "execution_count": 39,
   "metadata": {
    "collapsed": false
   },
   "outputs": [
    {
     "data": {
      "text/plain": [
       "[(0.0, 0),\n",
       " (0.1, 0.009999763608085938),\n",
       " (0.2, 0.039999476978140866),\n",
       " (0.30000000000000004, 0.08999915157291752),\n",
       " (0.4, 0.1599990619943626),\n",
       " (0.5, 0.24999900259730057),\n",
       " (0.6000000000000001, 0.35999892466841327),\n",
       " (0.7000000000000001, 0.48999885833008083),\n",
       " (0.8, 0.6399988083054023),\n",
       " (0.9, 0.8099987750800319),\n",
       " (1.0, 0.9999987632541076),\n",
       " (1.1, 1.2099987761634647),\n",
       " (1.2000000000000002, 1.4399988152685277),\n",
       " (1.3, 1.689998880275945),\n",
       " (1.4000000000000001, 1.9599989688055648),\n",
       " (1.5, 2.24999907646172),\n",
       " (1.6, 2.5599991972176466),\n",
       " (1.7000000000000002, 2.889999324060637),\n",
       " (1.8, 3.2399994498103646),\n",
       " (1.9000000000000001, 3.609999567961016),\n",
       " (2.0, 3.999999673392306),\n",
       " (2.1, 4.4099997628197),\n",
       " (2.2, 4.839999834918805),\n",
       " (2.3000000000000003, 5.28999989013423),\n",
       " (2.4000000000000004, 5.759999930253663),\n",
       " (2.5, 6.249999957866743),\n",
       " (2.6, 6.759999975834259),\n",
       " (2.7, 7.2899999868623375),\n",
       " (2.8000000000000003, 7.839999993232924),\n",
       " (2.9000000000000004, 8.409999996689852),\n",
       " (3.0, 8.999999998451965)]"
      ]
     },
     "execution_count": 39,
     "metadata": {},
     "output_type": "execute_result"
    }
   ],
   "source": [
    "Adams_Bashforth(h, num)"
   ]
  },
  {
   "cell_type": "markdown",
   "metadata": {},
   "source": [
    "#### Runge-Kutta (https://rosettacode.org/wiki/Runge-Kutta_method#Python)\n",
    "#### Adams-Bashforth(http://www.dam.brown.edu/people/sahn/html/ab4.html)"
   ]
  },
  {
   "cell_type": "code",
   "execution_count": 40,
   "metadata": {
    "collapsed": false
   },
   "outputs": [],
   "source": [
    "#x = np.linspace(0, 5, num)\n",
    "x = [float(i)*h for i in range(31)]\n",
    "y = []\n",
    "for i in x:\n",
    "    y.append(i**2)"
   ]
  },
  {
   "cell_type": "code",
   "execution_count": 41,
   "metadata": {
    "collapsed": false
   },
   "outputs": [
    {
     "data": {
      "image/png": "[encoded data removed]",
      "text/plain": [
       "<matplotlib.figure.Figure at 0x80feda0>"
      ]
     },
     "metadata": {},
     "output_type": "display_data"
    }
   ],
   "source": [
    "plt.plot(x, y)\n",
    "plt.show()"
   ]
  },
  {
   "cell_type": "code",
   "execution_count": 42,
   "metadata": {
    "collapsed": false
   },
   "outputs": [],
   "source": [
    "y_A = []\n",
    "for i in Adams_Bashforth(h, num):\n",
    "    y_A.append(i[1])"
   ]
  },
  {
   "cell_type": "code",
   "execution_count": 43,
   "metadata": {
    "collapsed": false
   },
   "outputs": [
    {
     "data": {
      "text/plain": [
       "array([ 0.  ,  0.01,  0.04,  0.09,  0.16,  0.25,  0.36,  0.49,  0.64,\n",
       "        0.81,  1.  ,  1.21,  1.44,  1.69,  1.96,  2.25,  2.56,  2.89,\n",
       "        3.24,  3.61,  4.  ,  4.41,  4.84,  5.29,  5.76,  6.25,  6.76,\n",
       "        7.29,  7.84,  8.41,  9.  ])"
      ]
     },
     "execution_count": 43,
     "metadata": {},
     "output_type": "execute_result"
    }
   ],
   "source": [
    "f = lambda y, x: (1 - x**2)*y + (2*x) - (x**2) + (x**4)\n",
    "y0, x0 = 0.0, 0.0\n",
    "h = 0.1\n",
    "#x = np.linspace(0, 5, num)\n",
    "x = [float(i)*h for i in range(31)]\n",
    "sol = intgr.odeint(f, y0, x)\n",
    "sol[:,0]"
   ]
  },
  {
   "cell_type": "code",
   "execution_count": 47,
   "metadata": {
    "collapsed": false
   },
   "outputs": [
    {
     "data": {
      "image/png": "[encoded data removed]",
      "text/plain": [
       "<matplotlib.figure.Figure at 0x7b1bbe0>"
      ]
     },
     "metadata": {},
     "output_type": "display_data"
    }
   ],
   "source": [
    "plt.plot(x,y, 'red',x, y_A,x, y_R)\n",
    "plt.show()"
   ]
  },
  {
   "cell_type": "code",
   "execution_count": 46,
   "metadata": {
    "collapsed": false
   },
   "outputs": [
    {
     "data": {
      "image/png": "[encoded data removed]",
      "text/plain": [
       "<matplotlib.figure.Figure at 0x3f734e0>"
      ]
     },
     "metadata": {},
     "output_type": "display_data"
    }
   ],
   "source": [
    "y_Adams = []\n",
    "y_Runge = []\n",
    "for i in range(0, len(y), 1):\n",
    "    y_Adams.append(abs(y[i] - y_A[i]))\n",
    "    y_Runge.append(abs(y[i] - y_R[i]))\n",
    "plt.plot(x,y_nn, x, y_n, 'red')\n",
    "plt.show()"
   ]
  },
  {
   "cell_type": "code",
   "execution_count": null,
   "metadata": {
    "collapsed": true
   },
   "outputs": [],
   "source": []
  },
  {
   "cell_type": "code",
   "execution_count": null,
   "metadata": {
    "collapsed": true
   },
   "outputs": [],
   "source": []
  },
  {
   "cell_type": "code",
   "execution_count": null,
   "metadata": {
    "collapsed": true
   },
   "outputs": [],
   "source": []
  }
 ],
 "metadata": {
  "kernelspec": {
   "display_name": "Python 2",
   "language": "python",
   "name": "python2"
  },
  "language_info": {
   "codemirror_mode": {
    "name": "ipython",
    "version": 2
   },
   "file_extension": ".py",
   "mimetype": "text/x-python",
   "name": "python",
   "nbconvert_exporter": "python",
   "pygments_lexer": "ipython2",
   "version": "2.7.10"
  }
 },
 "nbformat": 4,
 "nbformat_minor": 0
}
