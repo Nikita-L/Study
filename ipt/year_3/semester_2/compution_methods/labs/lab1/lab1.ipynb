{
 "cells": [
  {
   "cell_type": "markdown",
   "metadata": {
    "collapsed": true
   },
   "source": [
    "# Лабораторная работа 1"
   ]
  },
  {
   "cell_type": "markdown",
   "metadata": {},
   "source": [
    "---"
   ]
  },
  {
   "cell_type": "markdown",
   "metadata": {},
   "source": [
    "Функция для 9-го варианта: \n",
    "$x^5 + x^4 -2x^3 - 9x^2 - 3x -2 = 0$"
   ]
  },
  {
   "cell_type": "markdown",
   "metadata": {},
   "source": [
    "Импорт необходимых библиотек:"
   ]
  },
  {
   "cell_type": "code",
   "execution_count": 1,
   "metadata": {
    "collapsed": false
   },
   "outputs": [],
   "source": [
    "import sympy\n",
    "import math"
   ]
  },
  {
   "cell_type": "markdown",
   "metadata": {},
   "source": [
    "Функция и ее производная реализованная на python:"
   ]
  },
  {
   "cell_type": "code",
   "execution_count": 2,
   "metadata": {
    "collapsed": true
   },
   "outputs": [],
   "source": [
    "def func(s):\n",
    "    return s ** 5 + s ** 4 - 2 * s ** 3 - 9 * s ** 2 - 3 * s - 2\n",
    "def func_prime(s):\n",
    "    return 5 * s ** 4 + 4 * s ** 3 - 6 * s ** 2 - 18 * s - 3"
   ]
  },
  {
   "cell_type": "markdown",
   "metadata": {},
   "source": [
    "**1**. На первом этапе находим действительные корни и определяем отрезки содержащие по одному действительному корню."
   ]
  },
  {
   "cell_type": "markdown",
   "metadata": {
    "collapsed": false
   },
   "source": [
    "![title](lab1.jpg)"
   ]
  },
  {
   "cell_type": "markdown",
   "metadata": {
    "collapsed": false
   },
   "source": [
    "Из графика видно что существует единственный действительный корень (пересечение действительной оси):"
   ]
  },
  {
   "cell_type": "markdown",
   "metadata": {
    "collapsed": true
   },
   "source": [
    "![title](lab1_2.jpg)"
   ]
  },
  {
   "cell_type": "markdown",
   "metadata": {
    "collapsed": true
   },
   "source": [
    "Возьмем в качестве отрезка, содержащего единственный действительный корень, отрезок $[2, 3]$."
   ]
  },
  {
   "cell_type": "markdown",
   "metadata": {},
   "source": [
    "Задана $f(x) = 0$, где $f(x) = P_n(x) = a_nx^n + a_{n-1}x^{n-1} + ... + a_1x + a_0 = 0$"
   ]
  },
  {
   "cell_type": "markdown",
   "metadata": {},
   "source": [
    "### Теорема Гюа про существование комплексных корней"
   ]
  },
  {
   "cell_type": "markdown",
   "metadata": {},
   "source": [
    "Если $\\exists k : 0 < k < n, a_k^2 < a_{k-1} \\cdot a_{k+1}$, то уравнение имеет хоть одну пару комплексносопряженных корней"
   ]
  },
  {
   "cell_type": "markdown",
   "metadata": {},
   "source": [
    "Для заданного уравнения это условие выполняется при $k = 1$."
   ]
  },
  {
   "cell_type": "markdown",
   "metadata": {},
   "source": [
    "$a_1^2 < a_0 \\cdot a_2$"
   ]
  },
  {
   "cell_type": "markdown",
   "metadata": {},
   "source": [
    "$a_1 = -3, a_0 = -2, a_2 = -9$"
   ]
  },
  {
   "cell_type": "markdown",
   "metadata": {},
   "source": [
    "$9 < 18$"
   ]
  },
  {
   "cell_type": "markdown",
   "metadata": {},
   "source": [
    "Уравнение имеет хотя бы одну пару комплексносопряженных корней."
   ]
  },
  {
   "cell_type": "markdown",
   "metadata": {},
   "source": [
    "### Теорема Штурма про чередование корней:"
   ]
  },
  {
   "cell_type": "code",
   "execution_count": 5,
   "metadata": {
    "collapsed": true
   },
   "outputs": [],
   "source": [
    "def shturm_sim(s1, s2):\n",
    "    return - (s1 % s2)\n",
    "def shturm(s):\n",
    "    # Функция возвращающая последовательность решений функций для определенной точки s\n",
    "    f0 = func(s)\n",
    "    f1 = func_prime(s)\n",
    "    f2 = shturm_sim(f0, f1)\n",
    "    f3 = shturm_sim(f1, f2)\n",
    "    f4 = shturm_sim(f2, f3)\n",
    "    f5 = shturm_sim(f3, f4)\n",
    "    print(f0)\n",
    "    print(f1)\n",
    "    print(f2)\n",
    "    print(f3)\n",
    "    print(f4)\n",
    "    print(f5)"
   ]
  },
  {
   "cell_type": "markdown",
   "metadata": {},
   "source": [
    "Посмотрим последовательность решений функций и подсчитаем смены знаков:"
   ]
  },
  {
   "cell_type": "code",
   "execution_count": 20,
   "metadata": {
    "collapsed": false
   },
   "outputs": [
    {
     "name": "stdout",
     "output_type": "stream",
     "text": [
      "-12\n",
      "49\n",
      "-37\n",
      "25\n",
      "-13\n",
      "1\n"
     ]
    }
   ],
   "source": [
    "shturm(2)"
   ]
  },
  {
   "cell_type": "markdown",
   "metadata": {},
   "source": [
    "Для начала выбранного отрезка количество смен знака равна $5$."
   ]
  },
  {
   "cell_type": "code",
   "execution_count": 21,
   "metadata": {
    "collapsed": false
   },
   "outputs": [
    {
     "name": "stdout",
     "output_type": "stream",
     "text": [
      "178\n",
      "402\n",
      "-178\n",
      "132\n",
      "-86\n",
      "40\n"
     ]
    }
   ],
   "source": [
    "shturm(3)"
   ]
  },
  {
   "cell_type": "markdown",
   "metadata": {},
   "source": [
    "Для конца выбранного отрезка количество смен знака равна $4$."
   ]
  },
  {
   "cell_type": "markdown",
   "metadata": {},
   "source": [
    "$5 - 4 = 1$. Теорема подтверждает что на заданом отрезке мы имеем один корень."
   ]
  },
  {
   "cell_type": "markdown",
   "metadata": {},
   "source": [
    "### Теорема про верхнюю границу"
   ]
  },
  {
   "cell_type": "markdown",
   "metadata": {},
   "source": [
    "$B = max|a_i|, a_i < 0$"
   ]
  },
  {
   "cell_type": "markdown",
   "metadata": {},
   "source": [
    "$B = 9$"
   ]
  },
  {
   "cell_type": "markdown",
   "metadata": {},
   "source": [
    "$m = max(i) : a_i < 0$"
   ]
  },
  {
   "cell_type": "markdown",
   "metadata": {},
   "source": [
    "$m = 3$"
   ]
  },
  {
   "cell_type": "markdown",
   "metadata": {},
   "source": [
    "$R_1 = 1 + \\sqrt[n - m]{B \\over a_n} = 1 + \\sqrt[5 - 3]{9 \\over 1} = 4$"
   ]
  },
  {
   "cell_type": "markdown",
   "metadata": {},
   "source": [
    "$\\forall x^* \\leq R_1$"
   ]
  },
  {
   "cell_type": "markdown",
   "metadata": {},
   "source": [
    "Для определения нижней границы делаем замену $x = {1 \\over y}$"
   ]
  },
  {
   "cell_type": "markdown",
   "metadata": {},
   "source": [
    "$f(y) = y^5(- 2 - 3y^{-1} - 9y^{-2} - 2y^{-3} + y^{-4} + y^{-5}) = 0$"
   ]
  },
  {
   "cell_type": "markdown",
   "metadata": {},
   "source": [
    "$f(y) = -2y^5 - 3y^4 - 9y^3 - 2y^2 + y + 1 = 0$"
   ]
  },
  {
   "cell_type": "markdown",
   "metadata": {},
   "source": [
    "$f(y) = 2y^5 + 3y^4 + 9y^3 + 2y^2 - y - 1 = 0$"
   ]
  },
  {
   "cell_type": "markdown",
   "metadata": {},
   "source": [
    "$B = 1$"
   ]
  },
  {
   "cell_type": "markdown",
   "metadata": {},
   "source": [
    "$m = 1$"
   ]
  },
  {
   "cell_type": "markdown",
   "metadata": {},
   "source": [
    "$R_2 = 1 + \\sqrt[5-1]{1 \\over 2} = 0.840896$"
   ]
  },
  {
   "cell_type": "code",
   "execution_count": 22,
   "metadata": {
    "collapsed": false
   },
   "outputs": [
    {
     "data": {
      "text/plain": [
       "0.8408964152537145"
      ]
     },
     "execution_count": 22,
     "metadata": {},
     "output_type": "execute_result"
    }
   ],
   "source": [
    "math.pow(1/2, 1/4)"
   ]
  },
  {
   "cell_type": "markdown",
   "metadata": {},
   "source": [
    "${1 \\over R_2} < x^* < R_1$"
   ]
  },
  {
   "cell_type": "markdown",
   "metadata": {},
   "source": [
    "$1.18921 < x^* < 4$"
   ]
  },
  {
   "cell_type": "code",
   "execution_count": 23,
   "metadata": {
    "collapsed": false
   },
   "outputs": [
    {
     "data": {
      "text/plain": [
       "1.189207115002721"
      ]
     },
     "execution_count": 23,
     "metadata": {},
     "output_type": "execute_result"
    }
   ],
   "source": [
    "1 / math.pow(1/2, 1/4)"
   ]
  },
  {
   "cell_type": "markdown",
   "metadata": {},
   "source": [
    "Уточним границы нахождения корней:"
   ]
  },
  {
   "cell_type": "markdown",
   "metadata": {},
   "source": [
    "$f(x) = x^5 + x^4 -2x^3 - 9x^2 - 3x -2 = 0$"
   ]
  },
  {
   "cell_type": "markdown",
   "metadata": {},
   "source": [
    "$F(x) = x^5 + x^4 - 2x^3 - 9x^2 - 3x - 2$"
   ]
  },
  {
   "cell_type": "markdown",
   "metadata": {},
   "source": [
    "$Ф(x) = 0$"
   ]
  },
  {
   "cell_type": "markdown",
   "metadata": {},
   "source": [
    "$F(3) = 178 > 0$"
   ]
  },
  {
   "cell_type": "code",
   "execution_count": 30,
   "metadata": {
    "collapsed": false
   },
   "outputs": [
    {
     "data": {
      "text/plain": [
       "178"
      ]
     },
     "execution_count": 30,
     "metadata": {},
     "output_type": "execute_result"
    }
   ],
   "source": [
    "func(3)"
   ]
  },
  {
   "cell_type": "markdown",
   "metadata": {},
   "source": [
    "$x = {1 \\over y}$"
   ]
  },
  {
   "cell_type": "markdown",
   "metadata": {},
   "source": [
    "$f(y) = 2y^5 + 3y^4 + 9y^3 + 2y^2 - y - 1 = 0$"
   ]
  },
  {
   "cell_type": "markdown",
   "metadata": {},
   "source": [
    "$F(y) = 2y^5 + 3y^4 + 9y^3 + 2y^2 - y - 1$"
   ]
  },
  {
   "cell_type": "markdown",
   "metadata": {},
   "source": [
    "$Ф(x) = 0$"
   ]
  },
  {
   "cell_type": "markdown",
   "metadata": {},
   "source": [
    "$F(1/2) = 0.375 > 0$"
   ]
  },
  {
   "cell_type": "code",
   "execution_count": 42,
   "metadata": {
    "collapsed": false
   },
   "outputs": [
    {
     "data": {
      "text/plain": [
       "0.375"
      ]
     },
     "execution_count": 42,
     "metadata": {},
     "output_type": "execute_result"
    }
   ],
   "source": [
    "def func_y(y):\n",
    "    return 2 * math.pow(y, 5) + 3 * math.pow(y, 4) + 9 * math.pow(y, 3) + 2 * math.pow(y, 2) - y - 1\n",
    "func_y(1/2)"
   ]
  },
  {
   "cell_type": "markdown",
   "metadata": {},
   "source": [
    "Следовательно мы можем взять отрезок $[2, 3]$"
   ]
  },
  {
   "cell_type": "markdown",
   "metadata": {},
   "source": [
    "### Теорема про границы всех (комплексных) корней уравнения"
   ]
  },
  {
   "cell_type": "markdown",
   "metadata": {},
   "source": [
    "$A = max|a_i| = 9, i = 0, ..., n - 1$"
   ]
  },
  {
   "cell_type": "markdown",
   "metadata": {},
   "source": [
    "$B = max|a_i| = 9, i = 1, ..., n-1$"
   ]
  },
  {
   "cell_type": "markdown",
   "metadata": {},
   "source": [
    "${|a_0| \\over {B + |a_0|}} \\leq |x^*| \\leq {{|a_n| + A} \\over |a_n|}$"
   ]
  },
  {
   "cell_type": "markdown",
   "metadata": {},
   "source": [
    "${2 \\over {9 + 2}} \\leq |x^*| \\leq {{1 + 9} \\over 1}$"
   ]
  },
  {
   "cell_type": "markdown",
   "metadata": {},
   "source": [
    "${2 \\over 11} \\leq |x^*| \\leq 10$"
   ]
  },
  {
   "cell_type": "markdown",
   "metadata": {},
   "source": [
    "**2**. Требуется уточнить корни уравнения методами: бисекции, хорд, Ньютона (касательных)."
   ]
  },
  {
   "cell_type": "markdown",
   "metadata": {},
   "source": [
    "### Метод бисекций:"
   ]
  },
  {
   "cell_type": "code",
   "execution_count": 43,
   "metadata": {
    "collapsed": false
   },
   "outputs": [
    {
     "name": "stdout",
     "output_type": "stream",
     "text": [
      "i = 1\n",
      "Answer = 2.25\n",
      "i = 2\n",
      "Answer = 2.125\n",
      "i = 3\n",
      "Answer = 2.1875\n",
      "i = 4\n",
      "Answer = 2.15625\n",
      "i = 5\n",
      "Answer = 2.171875\n",
      "i = 6\n",
      "Answer = 2.1796875\n",
      "i = 7\n",
      "Answer = 2.18359375\n",
      "i = 8\n",
      "Answer = 2.181640625\n",
      "i = 9\n",
      "Answer = 2.1826171875\n",
      "i = 10\n",
      "Answer = 2.18212890625\n",
      "i = 11\n",
      "Answer = 2.182373046875\n",
      "i = 12\n",
      "Answer = 2.1824951171875\n",
      "i = 13\n",
      "Answer = 2.18255615234375\n",
      "i = 14\n",
      "Answer = 2.182525634765625\n",
      "i = 15\n",
      "Answer = 2.1825103759765625\n",
      "i = 16\n",
      "Answer = 2.1825180053710938\n",
      "i = 17\n",
      "Answer = 2.182514190673828\n",
      "|a - b| < eps\n"
     ]
    }
   ],
   "source": [
    "a = 2\n",
    "b = 3\n",
    "eps = 10 ** (-5)\n",
    "i = 0\n",
    "while True:\n",
    "    i += 1\n",
    "    c = (a + b) / 2\n",
    "    if func(a) * func(c) <= 0:\n",
    "        b = c\n",
    "    elif func(b) * func(c) <= 0:\n",
    "        a = c\n",
    "    print('i =', i)\n",
    "    print('Answer =', (a + b)/2)\n",
    "    if abs(a - b) < eps:\n",
    "        print('|a - b| < eps')\n",
    "        break"
   ]
  },
  {
   "cell_type": "markdown",
   "metadata": {},
   "source": [
    "### Метод хорд:"
   ]
  },
  {
   "cell_type": "markdown",
   "metadata": {},
   "source": [
    "Проверим будет ли эффективен данный метод на заданом отрезке. С графика функции видно, что функция на заданом отрезке монотонная. Проверим будет ли вторая производная менять знак:"
   ]
  },
  {
   "cell_type": "code",
   "execution_count": 25,
   "metadata": {
    "collapsed": false
   },
   "outputs": [
    {
     "data": {
      "text/plain": [
       "20*s**3 + 12*s**2 - 12*s - 18"
      ]
     },
     "execution_count": 25,
     "metadata": {},
     "output_type": "execute_result"
    }
   ],
   "source": [
    "s = sympy.Symbol('s')\n",
    "y = s ** 5 + s ** 4 - 2 * s ** 3 - 9 * s ** 2 - 3 * s - 2\n",
    "yprime = y.diff(s).diff(s)\n",
    "yprime"
   ]
  },
  {
   "cell_type": "markdown",
   "metadata": {},
   "source": [
    "График полученной функции:"
   ]
  },
  {
   "cell_type": "markdown",
   "metadata": {},
   "source": [
    "![title](lab1_3.jpg)"
   ]
  },
  {
   "cell_type": "markdown",
   "metadata": {},
   "source": [
    "Вторая производная знак не меняяет, поэтому метод хорд будет эффективен на заданом отрезке."
   ]
  },
  {
   "cell_type": "code",
   "execution_count": 44,
   "metadata": {
    "collapsed": false
   },
   "outputs": [
    {
     "name": "stdout",
     "output_type": "stream",
     "text": [
      "i = 1\n",
      "Answer = 2.0631578947368423\n",
      "i = 2\n",
      "Answer = 2.1061549448999792\n",
      "i = 3\n",
      "Answer = 2.1343924897202253\n",
      "i = 4\n",
      "Answer = 2.1524873061883123\n",
      "i = 5\n",
      "Answer = 2.1638970251154674\n",
      "i = 6\n",
      "Answer = 2.1710174412360557\n",
      "i = 7\n",
      "Answer = 2.175432175762962\n",
      "i = 8\n",
      "Answer = 2.1781582464540863\n",
      "i = 9\n",
      "Answer = 2.1798373378956692\n",
      "i = 10\n",
      "Answer = 2.180869945427\n",
      "i = 11\n",
      "Answer = 2.1815043695509053\n",
      "i = 12\n",
      "Answer = 2.1818939237871984\n",
      "i = 13\n",
      "Answer = 2.1821330343690146\n",
      "i = 14\n",
      "Answer = 2.1822797691361298\n",
      "i = 15\n",
      "Answer = 2.1823698034261136\n",
      "i = 16\n",
      "Answer = 2.182425042509306\n",
      "i = 17\n",
      "Answer = 2.182458931813023\n",
      "i = 18\n",
      "Answer = 2.1824797223222863\n",
      "i = 19\n",
      "Answer = 2.182492476697892\n",
      "i = 20\n",
      "Answer = 2.1825003010452075\n",
      "|c - c_prev| < eps\n"
     ]
    }
   ],
   "source": [
    "a = 2\n",
    "b = 3\n",
    "eps = 10 ** (-5)\n",
    "i = 0\n",
    "c_prev = 2\n",
    "while True:\n",
    "    i += 1\n",
    "    c = (a * func(b) - b * func(a)) / (func(b) - func(a))\n",
    "    if func(a) * func(c) <= 0:\n",
    "        b = c\n",
    "    elif func(b) * func(c) <= 0:\n",
    "        a = c\n",
    "    print('i =', i)\n",
    "    print('Answer =', a)\n",
    "    if abs(func(c)) < eps:\n",
    "        print('|f(c)| < eps')\n",
    "        break\n",
    "    if abs(c - c_prev) < eps:\n",
    "        print('|c - c_prev| < eps')\n",
    "        break\n",
    "    c_prev = c"
   ]
  },
  {
   "cell_type": "markdown",
   "metadata": {},
   "source": [
    "### Метод Ньютона (касательных)"
   ]
  },
  {
   "cell_type": "markdown",
   "metadata": {},
   "source": [
    "Проверка на эффективность для этого метода идентична предыдущему, поэтому она проводится не будет."
   ]
  },
  {
   "cell_type": "code",
   "execution_count": 6,
   "metadata": {
    "collapsed": false
   },
   "outputs": [
    {
     "name": "stdout",
     "output_type": "stream",
     "text": [
      "i = 1\n",
      "Answer = 2.2448979591836733\n",
      "i = 2\n",
      "Answer = 2.187145775705221\n",
      "i = 3\n",
      "Answer = 2.1825406733059705\n",
      "i = 4\n",
      "Answer = 2.1825127195573626\n",
      "i = 5\n",
      "Answer = 2.1825127195573626\n",
      "i = 6\n",
      "Answer = 2.1825127195573626\n",
      "all_reasons\n"
     ]
    }
   ],
   "source": [
    "a = 2\n",
    "b = 3\n",
    "eps = 10 ** (-5)\n",
    "i = 0\n",
    "x_pres = 2 # Касательная через точку не будет пересекать ось абсцисс вне взятого отрезка\n",
    "x_old = 3\n",
    "while True:\n",
    "    i += 1\n",
    "    x_next = x_pres - func(x_pres) / func_prime(x_pres)\n",
    "    if func(a) * func(x_next) <= 0:\n",
    "        b = x_next\n",
    "    else:\n",
    "        a = x_next\n",
    "    print('i =', i)\n",
    "    print('Answer =', b)\n",
    "#     if abs(func(x_pres)) < eps:\n",
    "#         print('|f(x_pres)| < eps')\n",
    "#         break\n",
    "#     if abs(x_pres - x_old) < eps:\n",
    "#         print('|x_pres - x_old| < eps')\n",
    "#         break\n",
    "    if abs(func(x_pres)) < eps and abs(x_pres - x_old) < eps:\n",
    "        print('all_reasons')\n",
    "        break\n",
    "    x_old = x_pres\n",
    "    x_pres = x_next"
   ]
  },
  {
   "cell_type": "markdown",
   "metadata": {},
   "source": [
    "**3**. Выводы."
   ]
  },
  {
   "cell_type": "markdown",
   "metadata": {},
   "source": [
    "Метод Ньютона оказался более эффективным"
   ]
  }
 ],
 "metadata": {
  "kernelspec": {
   "display_name": "Python 3",
   "language": "python",
   "name": "python3"
  },
  "language_info": {
   "codemirror_mode": {
    "name": "ipython",
    "version": 3
   },
   "file_extension": ".py",
   "mimetype": "text/x-python",
   "name": "python",
   "nbconvert_exporter": "python",
   "pygments_lexer": "ipython3",
   "version": "3.5.2"
  }
 },
 "nbformat": 4,
 "nbformat_minor": 1
}
