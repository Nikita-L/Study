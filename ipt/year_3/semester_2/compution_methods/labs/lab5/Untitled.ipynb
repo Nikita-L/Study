{
 "cells": [
  {
   "cell_type": "markdown",
   "metadata": {},
   "source": [
    "# Лабораторная работа 5"
   ]
  },
  {
   "cell_type": "markdown",
   "metadata": {},
   "source": [
    "---"
   ]
  },
  {
   "cell_type": "markdown",
   "metadata": {},
   "source": [
    "Задание для 9-го варианта:"
   ]
  },
  {
   "cell_type": "markdown",
   "metadata": {},
   "source": [
    "Функция: $\\frac{1}{cos (x)}$. Отрезок интерполяции: $[0, \\pi/3]$."
   ]
  },
  {
   "cell_type": "markdown",
   "metadata": {},
   "source": [
    "Импорт необходимых библиотек и вспомагательные функции:"
   ]
  },
  {
   "cell_type": "code",
   "execution_count": 77,
   "metadata": {
    "collapsed": true
   },
   "outputs": [],
   "source": [
    "import numpy \n",
    "import matplotlib.pyplot as plt\n",
    "import math\n",
    "import scipy.linalg\n",
    "import scipy.interpolate as inter\n",
    "\n",
    "def product( val, n ): # произведение разностей координат\n",
    "    mul = 1\n",
    "    for i in range(n):\n",
    "        if i: mul *= val - x[i-1]\n",
    "        yield mul\n",
    "def niceCubicPolynomial(p):\n",
    "    tmp = \"\"\n",
    "    if p[\"a\"] == 1:\n",
    "        tmp += \" x^3\"\n",
    "    elif p[\"a\"] != 0:\n",
    "        tmp += \"%.2fx^3\" % p[\"a\"]\n",
    "    if p[\"b\"] == 1:\n",
    "        tmp += \"\\t+ x^2\"\n",
    "    elif p[\"b\"] != 0:\n",
    "        tmp += \"\\t+ %.2fx^2\" % p[\"b\"]\n",
    "    else:\n",
    "        tmp += \"\\t\\t\"\n",
    "    if p[\"c\"] == 1:\n",
    "        tmp += \"\\t+ x\"\n",
    "    elif p[\"c\"] != 0:\n",
    "        tmp += \"\\t+ %.2fx\" % p[\"c\"]\n",
    "    else:\n",
    "        tmp += \"\\t\\t\"\n",
    "    if p[\"d\"] != 0:\n",
    "        tmp += \"\\t+ %.2f\" % p[\"d\"]\n",
    "    return tmp\n",
    "def dif(x,w):\n",
    "    M = x.shape[0]\n",
    "    A = numpy.zeros((M,M))\n",
    "    A[:,0] = w\n",
    "    for j in range(1,M):\n",
    "        for i in range(M-j):\n",
    "            #print ((x[i+j]-x[i]))\n",
    "            #print(\"A+\",A[i+1,j-1])\n",
    "            #print(\"A1\",A[i,j-1])\n",
    "            A[i,j] = (A[i+1,j-1]-A[i,j-1])#/(x[i+j]-x[i])\n",
    "\n",
    "    b1=numpy.copy(A[0,:])\n",
    "    b2=numpy.zeros(M)\n",
    "    for j in range(M):\n",
    "        b2[j] = A[M-1-j,j]\n",
    "        \n",
    "    return A,b1,b2"
   ]
  },
  {
   "cell_type": "markdown",
   "metadata": {},
   "source": [
    "Таблица интерполяции:"
   ]
  },
  {
   "cell_type": "code",
   "execution_count": 47,
   "metadata": {
    "collapsed": false
   },
   "outputs": [
    {
     "name": "stdout",
     "output_type": "stream",
     "text": [
      "[ 0.          0.10471976  0.20943951  0.31415927  0.41887902  0.52359878\n",
      "  0.62831853  0.73303829  0.83775804  0.9424778 ]\n",
      "[ 1.          1.00550828  1.02234059  1.05146222  1.09463628  1.15470054\n",
      "  1.23606798  1.34563273  1.49447655  1.70130162]\n"
     ]
    }
   ],
   "source": [
    "x = numpy.arange(0, numpy.pi/3, numpy.pi/30)\n",
    "y = 1/numpy.cos(x) #  [math.cos(i) for i in x]\n",
    "print(x, y, sep=\"\\n\")"
   ]
  },
  {
   "cell_type": "markdown",
   "metadata": {},
   "source": [
    "Коэффициенты полинома Лагранжа:"
   ]
  },
  {
   "cell_type": "code",
   "execution_count": 48,
   "metadata": {
    "collapsed": false
   },
   "outputs": [
    {
     "name": "stdout",
     "output_type": "stream",
     "text": [
      "[1.0, 0.052600195227942216, 0.51631411706187058, 0.14009268338041422, 0.27643052841261251, 0.18318943545246086, 0.23557755385996218, 0.2611342380390872, 0.36578358222881208, 0.57773624806139701]\n"
     ]
    }
   ],
   "source": [
    "C = []\n",
    "for n in range(len(x)): # вычисляем коэффициенты\n",
    "    p = product( x[n], n+1 )\n",
    "    C.append( (y[n]-sum(C[k]*next(p) for k in range(n)) )/next(p) )\n",
    "print(C)"
   ]
  },
  {
   "cell_type": "markdown",
   "metadata": {},
   "source": [
    "Функция Лагранжа:"
   ]
  },
  {
   "cell_type": "code",
   "execution_count": 49,
   "metadata": {
    "collapsed": true
   },
   "outputs": [],
   "source": [
    "def lagranz(x,y,t):\n",
    "    z = 0\n",
    "    for j in range(len(y)):\n",
    "        p1 = 1\n",
    "        p2 = 1\n",
    "        for i in range(len(x)):\n",
    "            if i==j:\n",
    "                p1=p1*1; p2=p2*1   \n",
    "            else: \n",
    "                p1=p1*(t-x[i])\n",
    "                p2=p2*(x[j]-x[i])\n",
    "        z=z+y[j]*p1/p2\n",
    "    return z"
   ]
  },
  {
   "cell_type": "markdown",
   "metadata": {},
   "source": [
    "Отображение графика:"
   ]
  },
  {
   "cell_type": "code",
   "execution_count": 50,
   "metadata": {
    "collapsed": false
   },
   "outputs": [
    {
     "data": {
      "image/png": "[encoded data removed]",
      "text/plain": [
       "<matplotlib.figure.Figure at 0x7ff6193062e8>"
      ]
     },
     "metadata": {},
     "output_type": "display_data"
    }
   ],
   "source": [
    "xnew=numpy.linspace(numpy.min(x),numpy.max(x),100)\n",
    "ynew=[lagranz(x,y,i) for i in xnew]\n",
    "# plt.figure(figsize=(10,10))  # если figsize=(8, 6) мало\n",
    "plt.plot(x,y,'o',xnew,ynew)\n",
    "plt.grid(True)\n",
    "plt.show()"
   ]
  },
  {
   "cell_type": "code",
   "execution_count": 86,
   "metadata": {
    "collapsed": true
   },
   "outputs": [],
   "source": [
    "def newton(x,w,form=1):\n",
    "    M = w.shape[0]\n",
    "    A,b1,b2 = dif(x,w)\n",
    "    q = numpy.poly1d([1,-x[0]])/(x[1]-x[0])\n",
    "    p = numpy.poly1d(b1[0])\n",
    "    a = numpy.poly1d(1)\n",
    "    for i in range(1,M):\n",
    "        a = a*(q-i+1)/(i)\n",
    "        p += a*b1[i]\n",
    "    return p"
   ]
  },
  {
   "cell_type": "code",
   "execution_count": 87,
   "metadata": {
    "collapsed": false
   },
   "outputs": [
    {
     "name": "stdout",
     "output_type": "stream",
     "text": [
      "        9         8         7         6         5         4           3\n",
      "0.5777 x - 1.812 x + 2.648 x - 2.057 x + 1.051 x - 0.108 x + 0.05635 x\n",
      "           2\n",
      " + 0.4947 x + 0.0002027 x + 1\n"
     ]
    }
   ],
   "source": [
    "result = newton(x, y)\n",
    "print(result)"
   ]
  },
  {
   "cell_type": "code",
   "execution_count": 51,
   "metadata": {
    "collapsed": true
   },
   "outputs": [],
   "source": [
    "def getSpline(points):\n",
    "    points = sorted(points, key=lambda point: point[\"x\"])\n",
    "\n",
    "    n = len(points) - 1\n",
    "\n",
    "    A = numpy.zeros(shape=(4*n,4*n))\n",
    "    b = numpy.zeros(shape=(4*n,1))\n",
    "\n",
    "    for i in range(0, n):\n",
    "        # 2n\n",
    "        A[i][4*i+0] = points[i][\"x\"]**3\n",
    "        A[i][4*i+1] = points[i][\"x\"]**2\n",
    "        A[i][4*i+2] = points[i][\"x\"]\n",
    "        A[i][4*i+3] = 1\n",
    "        b[i] = points[i][\"y\"]\n",
    "\n",
    "        A[n+i][4*i+0] = points[i+1][\"x\"]**3\n",
    "        A[n+i][4*i+1] = points[i+1][\"x\"]**2\n",
    "        A[n+i][4*i+2] = points[i+1][\"x\"]\n",
    "        A[n+i][4*i+3] = 1\n",
    "        b[n+i] = points[i+1][\"y\"]\n",
    "\n",
    "        # 2n-2\n",
    "        if i == 0:\n",
    "            continue\n",
    "        # точка i - внутренняя\n",
    "        A[2*n+(i-1)][4*(i-1)+0] = 3*points[i][\"x\"]**2\n",
    "        A[2*n+(i-1)][4*(i-1)+1] = 2*points[i][\"x\"]\n",
    "        A[2*n+(i-1)][4*(i-1)+2] = 1\n",
    "        A[2*n+(i-1)][4*(i-1)+0+4] = -3*points[i][\"x\"]**2\n",
    "        A[2*n+(i-1)][4*(i-1)+1+4] = -2*points[i][\"x\"]\n",
    "        A[2*n+(i-1)][4*(i-1)+2+4] = -1\n",
    "        b[2*n+(i-1)] = 0\n",
    "\n",
    "        A[3*n+(i-1)][4*(i-1)+0] = 6*points[i][\"x\"]\n",
    "        A[3*n+(i-1)][4*(i-1)+1] = 2\n",
    "        A[3*n+(i-1)][4*(i-1)+0+4] = -6*points[i][\"x\"]\n",
    "        A[3*n+(i-1)][4*(i-1)+1+4] = -2\n",
    "        b[3*n+(i-1)] = 0\n",
    "    A[3*n-1+0][0+0] += 6*points[0][\"x\"]\n",
    "    A[3*n-1+0][0+1] += 2\n",
    "    b[3*n-1+0] += 0\n",
    "\n",
    "    A[3*n+n-1][4*(n-1)+0] += 6*points[n][\"x\"]\n",
    "    A[3*n+n-1][4*(n-1)+1] += 2\n",
    "    b[3*n+n-1] += 0\n",
    "\n",
    "    x = scipy.linalg.solve(A, b)\n",
    "    spline = []\n",
    "    for i in range(0, n):\n",
    "        spline.append({\"u\": points[i][\"x\"], \"v\": points[i+1][\"x\"],\n",
    "                        \"a\": float(x[4*i+0]),\n",
    "                        \"b\": float(x[4*i+1]),\n",
    "                        \"c\": float(x[4*i+2]),\n",
    "                        \"d\": float(x[4*i+3])})\n",
    "    return spline"
   ]
  },
  {
   "cell_type": "code",
   "execution_count": 52,
   "metadata": {
    "collapsed": false
   },
   "outputs": [
    {
     "name": "stdout",
     "output_type": "stream",
     "text": [
      "[{'y': 1.0055082795635164, 'x': 0.10471975511965977}, {'y': 1.0223405948650293, 'x': 0.20943951023931953}, {'y': 1.0514622242382672, 'x': 0.31415926535897931}, {'y': 1.0946362785060468, 'x': 0.41887902047863906}, {'y': 1.1547005383792515, 'x': 0.52359877559829882}, {'y': 1.2360679774997896, 'x': 0.62831853071795862}, {'y': 1.3456327296063759, 'x': 0.73303828583761832}, {'y': 1.4944765498646086, 'x': 0.83775804095727813}, {'y': 1.7013016167040798, 'x': 0.94247779607693793}]\n"
     ]
    }
   ],
   "source": [
    "points = []\n",
    "for i in range (1, 10):\n",
    "    points.append({\"x\": x[i], \"y\": y[i]})\n",
    "print(points)"
   ]
  },
  {
   "cell_type": "code",
   "execution_count": 53,
   "metadata": {
    "collapsed": true
   },
   "outputs": [],
   "source": [
    "spline = getSpline(points)"
   ]
  },
  {
   "cell_type": "code",
   "execution_count": 54,
   "metadata": {
    "collapsed": false
   },
   "outputs": [
    {
     "name": "stdout",
     "output_type": "stream",
     "text": [
      "[0.10, 0.21]:2.20x^3\t+ -0.69x^2\t+ 0.21x\t+ 0.99\n",
      "[0.21, 0.31]:-0.31x^3\t+ 0.89x^2\t+ -0.12x\t+ 1.01\n",
      "[0.31, 0.42]:0.57x^3\t+ 0.06x^2\t+ 0.14x\t+ 0.98\n",
      "[0.42, 0.52]:0.50x^3\t+ 0.15x^2\t+ 0.10x\t+ 0.99\n",
      "[0.52, 0.63]:1.28x^3\t+ -1.08x^2\t+ 0.74x\t+ 0.88\n",
      "[0.63, 0.73]:0.38x^3\t+ 0.61x^2\t+ -0.32x\t+ 1.10\n",
      "[0.73, 0.84]:6.84x^3\t+ -13.60x^2\t+ 10.10x\t+ -1.44\n",
      "[0.84, 0.94]:-11.47x^3\t+ 32.42x^2\t+ -28.45x\t+ 9.32\n"
     ]
    }
   ],
   "source": [
    "for p in spline:\n",
    "    tmp = \"[%.2f, %.2f]:\" % (p[\"u\"], p[\"v\"])\n",
    "    tmp += niceCubicPolynomial(p)\n",
    "    print(tmp)"
   ]
  },
  {
   "cell_type": "code",
   "execution_count": 78,
   "metadata": {
    "collapsed": false
   },
   "outputs": [
    {
     "data": {
      "image/png": "[encoded data removed]",
      "text/plain": [
       "<matplotlib.figure.Figure at 0x7ff6191fc0f0>"
      ]
     },
     "metadata": {},
     "output_type": "display_data"
    }
   ],
   "source": [
    "xnew=numpy.linspace(numpy.min(x),numpy.max(x),100)\n",
    "tck = inter.splrep(x, y, s=0)\n",
    "ynew = inter.splev(xnew, tck, der=0)\n",
    "plt.plot(x,y, 'o', xnew, ynew)\n",
    "plt.grid(True)\n",
    "plt.show()"
   ]
  },
  {
   "cell_type": "code",
   "execution_count": 80,
   "metadata": {
    "collapsed": false,
    "scrolled": true
   },
   "outputs": [
    {
     "data": {
      "image/png": "[encoded data removed]",
      "text/plain": [
       "<matplotlib.figure.Figure at 0x7ff61929f128>"
      ]
     },
     "metadata": {},
     "output_type": "display_data"
    }
   ],
   "source": [
    "xnew=numpy.linspace(numpy.min(x),numpy.max(x),100)\n",
    "tck = inter.splrep(x, y, s=0)\n",
    "ynew = inter.splev(xnew, tck, der=0)\n",
    "plt.plot(xnew, abs(ynew - 1/numpy.cos(xnew)))\n",
    "plt.grid(True)\n",
    "plt.show()"
   ]
  },
  {
   "cell_type": "code",
   "execution_count": null,
   "metadata": {
    "collapsed": true
   },
   "outputs": [],
   "source": []
  }
 ],
 "metadata": {
  "kernelspec": {
   "display_name": "Python 3",
   "language": "python",
   "name": "python3"
  },
  "language_info": {
   "codemirror_mode": {
    "name": "ipython",
    "version": 3
   },
   "file_extension": ".py",
   "mimetype": "text/x-python",
   "name": "python",
   "nbconvert_exporter": "python",
   "pygments_lexer": "ipython3",
   "version": "3.5.2"
  }
 },
 "nbformat": 4,
 "nbformat_minor": 1
}
